{
 "cells": [
  {
   "cell_type": "code",
   "execution_count": 1,
   "id": "55701881-e188-4425-b1b3-ebb4daa7b18c",
   "metadata": {
    "execution": {
     "iopub.execute_input": "2025-10-13T19:46:46.345909Z",
     "iopub.status.busy": "2025-10-13T19:46:46.345453Z",
     "iopub.status.idle": "2025-10-13T19:46:46.351947Z",
     "shell.execute_reply": "2025-10-13T19:46:46.350487Z",
     "shell.execute_reply.started": "2025-10-13T19:46:46.345855Z"
    },
    "tags": []
   },
   "outputs": [],
   "source": [
    "# GSE217460_210322_TFAtlas_raw.h5ad.gz downloaded from https://www.ncbi.nlm.nih.gov/geo/query/acc.cgi?acc=GSE217460\n",
    "# into dataset folder"
   ]
  },
  {
   "cell_type": "code",
   "execution_count": 2,
   "id": "d440f0ea-02d1-4292-ad6e-2455c55e481b",
   "metadata": {
    "execution": {
     "iopub.execute_input": "2025-10-13T19:46:46.353530Z",
     "iopub.status.busy": "2025-10-13T19:46:46.353135Z",
     "iopub.status.idle": "2025-10-13T19:46:46.357105Z",
     "shell.execute_reply": "2025-10-13T19:46:46.356026Z",
     "shell.execute_reply.started": "2025-10-13T19:46:46.353506Z"
    },
    "tags": []
   },
   "outputs": [],
   "source": [
    "# !gzip -d -k Datasets/GSE217460_210322_TFAtlas_raw.h5ad.gz"
   ]
  },
  {
   "cell_type": "code",
   "execution_count": 3,
   "id": "b1a533b9-a09d-4f5f-8769-9004b48b77d9",
   "metadata": {
    "execution": {
     "iopub.execute_input": "2025-10-13T19:46:46.358879Z",
     "iopub.status.busy": "2025-10-13T19:46:46.358553Z",
     "iopub.status.idle": "2025-10-13T19:49:05.146352Z",
     "shell.execute_reply": "2025-10-13T19:49:05.145569Z",
     "shell.execute_reply.started": "2025-10-13T19:46:46.358858Z"
    },
    "tags": []
   },
   "outputs": [],
   "source": [
    "import scanpy as sc\n",
    "import numpy as n\n",
    "import pandas as pd\n",
    "# Load the h5ad file\n",
    "adata = sc.read_h5ad('Datasets/GSE217460_210322_TFAtlas_raw.h5ad')\n",
    "# adata = sc.read_h5ad('Datasets/GSE217460_210322_TFAtlas_differentiated.h5ad')"
   ]
  },
  {
   "cell_type": "code",
   "execution_count": 4,
   "id": "c91710b8-043f-4317-9db9-f93f3f79cf7f",
   "metadata": {
    "execution": {
     "iopub.execute_input": "2025-10-13T19:49:05.147802Z",
     "iopub.status.busy": "2025-10-13T19:49:05.147257Z",
     "iopub.status.idle": "2025-10-13T19:49:05.155087Z",
     "shell.execute_reply": "2025-10-13T19:49:05.153863Z",
     "shell.execute_reply.started": "2025-10-13T19:49:05.147760Z"
    },
    "tags": []
   },
   "outputs": [
    {
     "data": {
      "text/plain": [
       "AnnData object with n_obs × n_vars = 1145823 × 37528\n",
       "    obs: 'n_genes', 'percent_mito', 'n_counts', 'batch', 'TF'\n",
       "    var: 'n_cells-0-0', 'n_cells-0-1-0', 'n_cells-1-1-0', 'n_cells-2-1-0', 'n_cells-3-1-0', 'n_cells-0-2-0', 'n_cells-1-2-0', 'n_cells-2-2-0', 'n_cells-3-2-0', 'n_cells-0-3-0', 'n_cells-1-3-0', 'n_cells-2-3-0', 'n_cells-3-3-0', 'n_cells-0-4-0', 'n_cells-1-4-0', 'n_cells-2-4-0', 'n_cells-3-4-0', 'n_cells-0-1', 'n_cells-1-1', 'n_cells-2-1', 'n_cells-3-1'"
      ]
     },
     "execution_count": 4,
     "metadata": {},
     "output_type": "execute_result"
    }
   ],
   "source": [
    "adata"
   ]
  },
  {
   "cell_type": "code",
   "execution_count": 5,
   "id": "b3231549-6e62-4ba5-a715-346442c05daa",
   "metadata": {
    "execution": {
     "iopub.execute_input": "2025-10-13T19:49:05.156878Z",
     "iopub.status.busy": "2025-10-13T19:49:05.156541Z",
     "iopub.status.idle": "2025-10-13T19:49:05.161134Z",
     "shell.execute_reply": "2025-10-13T19:49:05.160363Z",
     "shell.execute_reply.started": "2025-10-13T19:49:05.156848Z"
    },
    "tags": []
   },
   "outputs": [
    {
     "name": "stdout",
     "output_type": "stream",
     "text": [
      "Number of cells: 1145823\n",
      "Number of genes: 37528\n"
     ]
    }
   ],
   "source": [
    "print(f\"Number of cells: {adata.n_obs}\")\n",
    "print(f\"Number of genes: {adata.n_vars}\")"
   ]
  },
  {
   "cell_type": "code",
   "execution_count": 6,
   "id": "da9e84e6-b228-4ac8-b6eb-26df1706abf6",
   "metadata": {
    "execution": {
     "iopub.execute_input": "2025-10-13T19:49:05.164630Z",
     "iopub.status.busy": "2025-10-13T19:49:05.164391Z",
     "iopub.status.idle": "2025-10-13T19:49:05.168298Z",
     "shell.execute_reply": "2025-10-13T19:49:05.167504Z",
     "shell.execute_reply.started": "2025-10-13T19:49:05.164611Z"
    },
    "tags": []
   },
   "outputs": [
    {
     "name": "stdout",
     "output_type": "stream",
     "text": [
      "(1145823, 37528)\n"
     ]
    }
   ],
   "source": [
    "print(adata.X.shape)"
   ]
  },
  {
   "cell_type": "code",
   "execution_count": 7,
   "id": "cf05a19f-72ed-4f8b-bf10-f0142b8c026b",
   "metadata": {
    "execution": {
     "iopub.execute_input": "2025-10-13T19:49:05.169502Z",
     "iopub.status.busy": "2025-10-13T19:49:05.169167Z",
     "iopub.status.idle": "2025-10-13T19:49:05.178880Z",
     "shell.execute_reply": "2025-10-13T19:49:05.178357Z",
     "shell.execute_reply.started": "2025-10-13T19:49:05.169483Z"
    },
    "tags": []
   },
   "outputs": [
    {
     "data": {
      "text/html": [
       "<div>\n",
       "<style scoped>\n",
       "    .dataframe tbody tr th:only-of-type {\n",
       "        vertical-align: middle;\n",
       "    }\n",
       "\n",
       "    .dataframe tbody tr th {\n",
       "        vertical-align: top;\n",
       "    }\n",
       "\n",
       "    .dataframe thead th {\n",
       "        text-align: right;\n",
       "    }\n",
       "</style>\n",
       "<table border=\"1\" class=\"dataframe\">\n",
       "  <thead>\n",
       "    <tr style=\"text-align: right;\">\n",
       "      <th></th>\n",
       "      <th>n_genes</th>\n",
       "      <th>percent_mito</th>\n",
       "      <th>n_counts</th>\n",
       "      <th>batch</th>\n",
       "      <th>TF</th>\n",
       "    </tr>\n",
       "  </thead>\n",
       "  <tbody>\n",
       "    <tr>\n",
       "      <th>R1.01,R2.01,R3.01,P1.22-0-0</th>\n",
       "      <td>1642</td>\n",
       "      <td>0.030650</td>\n",
       "      <td>2186.0</td>\n",
       "      <td>0</td>\n",
       "      <td>TFORF0867-NR1H2</td>\n",
       "    </tr>\n",
       "    <tr>\n",
       "      <th>R1.01,R2.01,R3.02,P1.22-0-0</th>\n",
       "      <td>1892</td>\n",
       "      <td>0.023033</td>\n",
       "      <td>2605.0</td>\n",
       "      <td>0</td>\n",
       "      <td>TFORF1728-ZNF695</td>\n",
       "    </tr>\n",
       "  </tbody>\n",
       "</table>\n",
       "</div>"
      ],
      "text/plain": [
       "                             n_genes  percent_mito  n_counts batch  \\\n",
       "R1.01,R2.01,R3.01,P1.22-0-0     1642      0.030650    2186.0     0   \n",
       "R1.01,R2.01,R3.02,P1.22-0-0     1892      0.023033    2605.0     0   \n",
       "\n",
       "                                           TF  \n",
       "R1.01,R2.01,R3.01,P1.22-0-0   TFORF0867-NR1H2  \n",
       "R1.01,R2.01,R3.02,P1.22-0-0  TFORF1728-ZNF695  "
      ]
     },
     "execution_count": 7,
     "metadata": {},
     "output_type": "execute_result"
    }
   ],
   "source": [
    "adata.obs.head(2)"
   ]
  },
  {
   "cell_type": "code",
   "execution_count": 8,
   "id": "54b6bce8-0cb6-44fe-b9d7-71b5a858c2c7",
   "metadata": {
    "execution": {
     "iopub.execute_input": "2025-10-13T19:49:05.179910Z",
     "iopub.status.busy": "2025-10-13T19:49:05.179449Z",
     "iopub.status.idle": "2025-10-13T19:49:05.189929Z",
     "shell.execute_reply": "2025-10-13T19:49:05.189337Z",
     "shell.execute_reply.started": "2025-10-13T19:49:05.179879Z"
    },
    "tags": []
   },
   "outputs": [
    {
     "data": {
      "text/plain": [
       "TF\n",
       "TFORF3550-mCherry    78274\n",
       "TFORF3549-GFP        49539\n",
       "TFORF0640-NHP2       13939\n",
       "TFORF0926-ATOH7       7559\n",
       "TFORF0274-TCF3        7270\n",
       "                     ...  \n",
       "TFORF2443-ABL1           1\n",
       "TFORF0545-ZFAT           1\n",
       "TFORF1753-ZNF180         1\n",
       "TFORF1751-ZNF180         1\n",
       "TFORF0542-ZFAT           1\n",
       "Name: count, Length: 3369, dtype: int64"
      ]
     },
     "execution_count": 8,
     "metadata": {},
     "output_type": "execute_result"
    }
   ],
   "source": [
    "adata.obs.TF.value_counts()"
   ]
  },
  {
   "cell_type": "code",
   "execution_count": 9,
   "id": "c2a6267e-e5bc-483f-ba91-566558aef072",
   "metadata": {
    "execution": {
     "iopub.execute_input": "2025-10-13T19:49:05.190948Z",
     "iopub.status.busy": "2025-10-13T19:49:05.190702Z",
     "iopub.status.idle": "2025-10-13T19:49:05.376414Z",
     "shell.execute_reply": "2025-10-13T19:49:05.375841Z",
     "shell.execute_reply.started": "2025-10-13T19:49:05.190927Z"
    },
    "tags": []
   },
   "outputs": [
    {
     "data": {
      "text/plain": [
       "<Axes: xlabel='TF'>"
      ]
     },
     "execution_count": 9,
     "metadata": {},
     "output_type": "execute_result"
    },
    {
     "data": {
      "image/png": "[encoded data removed]",
      "text/plain": [
       "<Figure size 640x480 with 1 Axes>"
      ]
     },
     "metadata": {},
     "output_type": "display_data"
    }
   ],
   "source": [
    "adata.obs.TF.value_counts().plot()"
   ]
  },
  {
   "cell_type": "code",
   "execution_count": 10,
   "id": "1487b073-dd2f-4597-ae2b-9bfcaf4c0bde",
   "metadata": {
    "execution": {
     "iopub.execute_input": "2025-10-13T19:49:05.377371Z",
     "iopub.status.busy": "2025-10-13T19:49:05.377063Z",
     "iopub.status.idle": "2025-10-13T19:49:05.408283Z",
     "shell.execute_reply": "2025-10-13T19:49:05.407596Z",
     "shell.execute_reply.started": "2025-10-13T19:49:05.377354Z"
    },
    "tags": []
   },
   "outputs": [
    {
     "data": {
      "text/html": [
       "<div>\n",
       "<style scoped>\n",
       "    .dataframe tbody tr th:only-of-type {\n",
       "        vertical-align: middle;\n",
       "    }\n",
       "\n",
       "    .dataframe tbody tr th {\n",
       "        vertical-align: top;\n",
       "    }\n",
       "\n",
       "    .dataframe thead th {\n",
       "        text-align: right;\n",
       "    }\n",
       "</style>\n",
       "<table border=\"1\" class=\"dataframe\">\n",
       "  <thead>\n",
       "    <tr style=\"text-align: right;\">\n",
       "      <th></th>\n",
       "      <th>n_cells-0-0</th>\n",
       "      <th>n_cells-0-1-0</th>\n",
       "      <th>n_cells-1-1-0</th>\n",
       "      <th>n_cells-2-1-0</th>\n",
       "      <th>n_cells-3-1-0</th>\n",
       "      <th>n_cells-0-2-0</th>\n",
       "      <th>n_cells-1-2-0</th>\n",
       "      <th>n_cells-2-2-0</th>\n",
       "      <th>n_cells-3-2-0</th>\n",
       "      <th>n_cells-0-3-0</th>\n",
       "      <th>...</th>\n",
       "      <th>n_cells-2-3-0</th>\n",
       "      <th>n_cells-3-3-0</th>\n",
       "      <th>n_cells-0-4-0</th>\n",
       "      <th>n_cells-1-4-0</th>\n",
       "      <th>n_cells-2-4-0</th>\n",
       "      <th>n_cells-3-4-0</th>\n",
       "      <th>n_cells-0-1</th>\n",
       "      <th>n_cells-1-1</th>\n",
       "      <th>n_cells-2-1</th>\n",
       "      <th>n_cells-3-1</th>\n",
       "    </tr>\n",
       "  </thead>\n",
       "  <tbody>\n",
       "    <tr>\n",
       "      <th>A1BG</th>\n",
       "      <td>5233.0</td>\n",
       "      <td>2568.0</td>\n",
       "      <td>1868.0</td>\n",
       "      <td>2140.0</td>\n",
       "      <td>1842.0</td>\n",
       "      <td>2156.0</td>\n",
       "      <td>1869.0</td>\n",
       "      <td>2049.0</td>\n",
       "      <td>1831.0</td>\n",
       "      <td>1741.0</td>\n",
       "      <td>...</td>\n",
       "      <td>2060.0</td>\n",
       "      <td>1450.0</td>\n",
       "      <td>1434.0</td>\n",
       "      <td>222.0</td>\n",
       "      <td>1644.0</td>\n",
       "      <td>999.0</td>\n",
       "      <td>1722.0</td>\n",
       "      <td>1665.0</td>\n",
       "      <td>1906.0</td>\n",
       "      <td>1732.0</td>\n",
       "    </tr>\n",
       "    <tr>\n",
       "      <th>A1BG-AS1</th>\n",
       "      <td>438.0</td>\n",
       "      <td>170.0</td>\n",
       "      <td>145.0</td>\n",
       "      <td>170.0</td>\n",
       "      <td>101.0</td>\n",
       "      <td>134.0</td>\n",
       "      <td>169.0</td>\n",
       "      <td>162.0</td>\n",
       "      <td>156.0</td>\n",
       "      <td>161.0</td>\n",
       "      <td>...</td>\n",
       "      <td>139.0</td>\n",
       "      <td>126.0</td>\n",
       "      <td>130.0</td>\n",
       "      <td>21.0</td>\n",
       "      <td>128.0</td>\n",
       "      <td>84.0</td>\n",
       "      <td>84.0</td>\n",
       "      <td>117.0</td>\n",
       "      <td>118.0</td>\n",
       "      <td>100.0</td>\n",
       "    </tr>\n",
       "    <tr>\n",
       "      <th>A1CF</th>\n",
       "      <td>1399.0</td>\n",
       "      <td>675.0</td>\n",
       "      <td>527.0</td>\n",
       "      <td>647.0</td>\n",
       "      <td>538.0</td>\n",
       "      <td>600.0</td>\n",
       "      <td>490.0</td>\n",
       "      <td>534.0</td>\n",
       "      <td>566.0</td>\n",
       "      <td>488.0</td>\n",
       "      <td>...</td>\n",
       "      <td>635.0</td>\n",
       "      <td>504.0</td>\n",
       "      <td>442.0</td>\n",
       "      <td>52.0</td>\n",
       "      <td>468.0</td>\n",
       "      <td>346.0</td>\n",
       "      <td>265.0</td>\n",
       "      <td>264.0</td>\n",
       "      <td>287.0</td>\n",
       "      <td>286.0</td>\n",
       "    </tr>\n",
       "    <tr>\n",
       "      <th>A2M</th>\n",
       "      <td>2958.0</td>\n",
       "      <td>1219.0</td>\n",
       "      <td>980.0</td>\n",
       "      <td>1210.0</td>\n",
       "      <td>1026.0</td>\n",
       "      <td>1128.0</td>\n",
       "      <td>1031.0</td>\n",
       "      <td>1143.0</td>\n",
       "      <td>1125.0</td>\n",
       "      <td>967.0</td>\n",
       "      <td>...</td>\n",
       "      <td>1172.0</td>\n",
       "      <td>948.0</td>\n",
       "      <td>1010.0</td>\n",
       "      <td>129.0</td>\n",
       "      <td>1008.0</td>\n",
       "      <td>621.0</td>\n",
       "      <td>598.0</td>\n",
       "      <td>664.0</td>\n",
       "      <td>596.0</td>\n",
       "      <td>642.0</td>\n",
       "    </tr>\n",
       "    <tr>\n",
       "      <th>A2M-AS1</th>\n",
       "      <td>521.0</td>\n",
       "      <td>261.0</td>\n",
       "      <td>192.0</td>\n",
       "      <td>216.0</td>\n",
       "      <td>169.0</td>\n",
       "      <td>201.0</td>\n",
       "      <td>162.0</td>\n",
       "      <td>197.0</td>\n",
       "      <td>238.0</td>\n",
       "      <td>159.0</td>\n",
       "      <td>...</td>\n",
       "      <td>203.0</td>\n",
       "      <td>130.0</td>\n",
       "      <td>161.0</td>\n",
       "      <td>17.0</td>\n",
       "      <td>161.0</td>\n",
       "      <td>121.0</td>\n",
       "      <td>82.0</td>\n",
       "      <td>86.0</td>\n",
       "      <td>87.0</td>\n",
       "      <td>63.0</td>\n",
       "    </tr>\n",
       "    <tr>\n",
       "      <th>...</th>\n",
       "      <td>...</td>\n",
       "      <td>...</td>\n",
       "      <td>...</td>\n",
       "      <td>...</td>\n",
       "      <td>...</td>\n",
       "      <td>...</td>\n",
       "      <td>...</td>\n",
       "      <td>...</td>\n",
       "      <td>...</td>\n",
       "      <td>...</td>\n",
       "      <td>...</td>\n",
       "      <td>...</td>\n",
       "      <td>...</td>\n",
       "      <td>...</td>\n",
       "      <td>...</td>\n",
       "      <td>...</td>\n",
       "      <td>...</td>\n",
       "      <td>...</td>\n",
       "      <td>...</td>\n",
       "      <td>...</td>\n",
       "      <td>...</td>\n",
       "    </tr>\n",
       "    <tr>\n",
       "      <th>ZYG11A</th>\n",
       "      <td>18141.0</td>\n",
       "      <td>8482.0</td>\n",
       "      <td>6373.0</td>\n",
       "      <td>7047.0</td>\n",
       "      <td>6304.0</td>\n",
       "      <td>7392.0</td>\n",
       "      <td>6677.0</td>\n",
       "      <td>7004.0</td>\n",
       "      <td>7115.0</td>\n",
       "      <td>6321.0</td>\n",
       "      <td>...</td>\n",
       "      <td>7269.0</td>\n",
       "      <td>5816.0</td>\n",
       "      <td>5700.0</td>\n",
       "      <td>831.0</td>\n",
       "      <td>6047.0</td>\n",
       "      <td>4039.0</td>\n",
       "      <td>3584.0</td>\n",
       "      <td>3394.0</td>\n",
       "      <td>3867.0</td>\n",
       "      <td>3610.0</td>\n",
       "    </tr>\n",
       "    <tr>\n",
       "      <th>ZYG11B</th>\n",
       "      <td>83833.0</td>\n",
       "      <td>35811.0</td>\n",
       "      <td>28096.0</td>\n",
       "      <td>32861.0</td>\n",
       "      <td>29200.0</td>\n",
       "      <td>30646.0</td>\n",
       "      <td>27845.0</td>\n",
       "      <td>29287.0</td>\n",
       "      <td>30981.0</td>\n",
       "      <td>25283.0</td>\n",
       "      <td>...</td>\n",
       "      <td>32084.0</td>\n",
       "      <td>24435.0</td>\n",
       "      <td>25224.0</td>\n",
       "      <td>3379.0</td>\n",
       "      <td>27522.0</td>\n",
       "      <td>19399.0</td>\n",
       "      <td>32504.0</td>\n",
       "      <td>33986.0</td>\n",
       "      <td>38622.0</td>\n",
       "      <td>28450.0</td>\n",
       "    </tr>\n",
       "    <tr>\n",
       "      <th>ZYX</th>\n",
       "      <td>21490.0</td>\n",
       "      <td>10018.0</td>\n",
       "      <td>7802.0</td>\n",
       "      <td>8365.0</td>\n",
       "      <td>7008.0</td>\n",
       "      <td>9197.0</td>\n",
       "      <td>8335.0</td>\n",
       "      <td>8299.0</td>\n",
       "      <td>7842.0</td>\n",
       "      <td>8170.0</td>\n",
       "      <td>...</td>\n",
       "      <td>8198.0</td>\n",
       "      <td>7063.0</td>\n",
       "      <td>7363.0</td>\n",
       "      <td>1229.0</td>\n",
       "      <td>7555.0</td>\n",
       "      <td>4995.0</td>\n",
       "      <td>11338.0</td>\n",
       "      <td>10953.0</td>\n",
       "      <td>11103.0</td>\n",
       "      <td>13661.0</td>\n",
       "    </tr>\n",
       "    <tr>\n",
       "      <th>ZZEF1</th>\n",
       "      <td>36244.0</td>\n",
       "      <td>15771.0</td>\n",
       "      <td>12025.0</td>\n",
       "      <td>14323.0</td>\n",
       "      <td>11874.0</td>\n",
       "      <td>13990.0</td>\n",
       "      <td>12939.0</td>\n",
       "      <td>13103.0</td>\n",
       "      <td>13560.0</td>\n",
       "      <td>12314.0</td>\n",
       "      <td>...</td>\n",
       "      <td>13971.0</td>\n",
       "      <td>11039.0</td>\n",
       "      <td>11206.0</td>\n",
       "      <td>1844.0</td>\n",
       "      <td>11714.0</td>\n",
       "      <td>7863.0</td>\n",
       "      <td>8233.0</td>\n",
       "      <td>7912.0</td>\n",
       "      <td>8462.0</td>\n",
       "      <td>8474.0</td>\n",
       "    </tr>\n",
       "    <tr>\n",
       "      <th>ZZZ3</th>\n",
       "      <td>121351.0</td>\n",
       "      <td>50130.0</td>\n",
       "      <td>37480.0</td>\n",
       "      <td>44976.0</td>\n",
       "      <td>38446.0</td>\n",
       "      <td>42995.0</td>\n",
       "      <td>38962.0</td>\n",
       "      <td>41037.0</td>\n",
       "      <td>43071.0</td>\n",
       "      <td>37243.0</td>\n",
       "      <td>...</td>\n",
       "      <td>42797.0</td>\n",
       "      <td>33740.0</td>\n",
       "      <td>34595.0</td>\n",
       "      <td>5815.0</td>\n",
       "      <td>37051.0</td>\n",
       "      <td>26757.0</td>\n",
       "      <td>24623.0</td>\n",
       "      <td>23725.0</td>\n",
       "      <td>26221.0</td>\n",
       "      <td>25181.0</td>\n",
       "    </tr>\n",
       "  </tbody>\n",
       "</table>\n",
       "<p>37528 rows × 21 columns</p>\n",
       "</div>"
      ],
      "text/plain": [
       "          n_cells-0-0  n_cells-0-1-0  n_cells-1-1-0  n_cells-2-1-0  \\\n",
       "A1BG           5233.0         2568.0         1868.0         2140.0   \n",
       "A1BG-AS1        438.0          170.0          145.0          170.0   \n",
       "A1CF           1399.0          675.0          527.0          647.0   \n",
       "A2M            2958.0         1219.0          980.0         1210.0   \n",
       "A2M-AS1         521.0          261.0          192.0          216.0   \n",
       "...               ...            ...            ...            ...   \n",
       "ZYG11A        18141.0         8482.0         6373.0         7047.0   \n",
       "ZYG11B        83833.0        35811.0        28096.0        32861.0   \n",
       "ZYX           21490.0        10018.0         7802.0         8365.0   \n",
       "ZZEF1         36244.0        15771.0        12025.0        14323.0   \n",
       "ZZZ3         121351.0        50130.0        37480.0        44976.0   \n",
       "\n",
       "          n_cells-3-1-0  n_cells-0-2-0  n_cells-1-2-0  n_cells-2-2-0  \\\n",
       "A1BG             1842.0         2156.0         1869.0         2049.0   \n",
       "A1BG-AS1          101.0          134.0          169.0          162.0   \n",
       "A1CF              538.0          600.0          490.0          534.0   \n",
       "A2M              1026.0         1128.0         1031.0         1143.0   \n",
       "A2M-AS1           169.0          201.0          162.0          197.0   \n",
       "...                 ...            ...            ...            ...   \n",
       "ZYG11A           6304.0         7392.0         6677.0         7004.0   \n",
       "ZYG11B          29200.0        30646.0        27845.0        29287.0   \n",
       "ZYX              7008.0         9197.0         8335.0         8299.0   \n",
       "ZZEF1           11874.0        13990.0        12939.0        13103.0   \n",
       "ZZZ3            38446.0        42995.0        38962.0        41037.0   \n",
       "\n",
       "          n_cells-3-2-0  n_cells-0-3-0  ...  n_cells-2-3-0  n_cells-3-3-0  \\\n",
       "A1BG             1831.0         1741.0  ...         2060.0         1450.0   \n",
       "A1BG-AS1          156.0          161.0  ...          139.0          126.0   \n",
       "A1CF              566.0          488.0  ...          635.0          504.0   \n",
       "A2M              1125.0          967.0  ...         1172.0          948.0   \n",
       "A2M-AS1           238.0          159.0  ...          203.0          130.0   \n",
       "...                 ...            ...  ...            ...            ...   \n",
       "ZYG11A           7115.0         6321.0  ...         7269.0         5816.0   \n",
       "ZYG11B          30981.0        25283.0  ...        32084.0        24435.0   \n",
       "ZYX              7842.0         8170.0  ...         8198.0         7063.0   \n",
       "ZZEF1           13560.0        12314.0  ...        13971.0        11039.0   \n",
       "ZZZ3            43071.0        37243.0  ...        42797.0        33740.0   \n",
       "\n",
       "          n_cells-0-4-0  n_cells-1-4-0  n_cells-2-4-0  n_cells-3-4-0  \\\n",
       "A1BG             1434.0          222.0         1644.0          999.0   \n",
       "A1BG-AS1          130.0           21.0          128.0           84.0   \n",
       "A1CF              442.0           52.0          468.0          346.0   \n",
       "A2M              1010.0          129.0         1008.0          621.0   \n",
       "A2M-AS1           161.0           17.0          161.0          121.0   \n",
       "...                 ...            ...            ...            ...   \n",
       "ZYG11A           5700.0          831.0         6047.0         4039.0   \n",
       "ZYG11B          25224.0         3379.0        27522.0        19399.0   \n",
       "ZYX              7363.0         1229.0         7555.0         4995.0   \n",
       "ZZEF1           11206.0         1844.0        11714.0         7863.0   \n",
       "ZZZ3            34595.0         5815.0        37051.0        26757.0   \n",
       "\n",
       "          n_cells-0-1  n_cells-1-1  n_cells-2-1  n_cells-3-1  \n",
       "A1BG           1722.0       1665.0       1906.0       1732.0  \n",
       "A1BG-AS1         84.0        117.0        118.0        100.0  \n",
       "A1CF            265.0        264.0        287.0        286.0  \n",
       "A2M             598.0        664.0        596.0        642.0  \n",
       "A2M-AS1          82.0         86.0         87.0         63.0  \n",
       "...               ...          ...          ...          ...  \n",
       "ZYG11A         3584.0       3394.0       3867.0       3610.0  \n",
       "ZYG11B        32504.0      33986.0      38622.0      28450.0  \n",
       "ZYX           11338.0      10953.0      11103.0      13661.0  \n",
       "ZZEF1          8233.0       7912.0       8462.0       8474.0  \n",
       "ZZZ3          24623.0      23725.0      26221.0      25181.0  \n",
       "\n",
       "[37528 rows x 21 columns]"
      ]
     },
     "execution_count": 10,
     "metadata": {},
     "output_type": "execute_result"
    }
   ],
   "source": [
    "adata.var"
   ]
  },
  {
   "cell_type": "code",
   "execution_count": 11,
   "id": "d9b71357-bb5f-4132-88f9-75f10888c6d7",
   "metadata": {
    "execution": {
     "iopub.execute_input": "2025-10-13T19:49:05.409360Z",
     "iopub.status.busy": "2025-10-13T19:49:05.409094Z",
     "iopub.status.idle": "2025-10-13T19:49:05.414186Z",
     "shell.execute_reply": "2025-10-13T19:49:05.413559Z",
     "shell.execute_reply.started": "2025-10-13T19:49:05.409341Z"
    },
    "tags": []
   },
   "outputs": [
    {
     "data": {
      "text/plain": [
       "Index(['A1BG', 'A1BG-AS1', 'A1CF', 'A2M', 'A2M-AS1', 'A2ML1', 'A2MP1',\n",
       "       'A3GALT2', 'A4GALT', 'A4GNT',\n",
       "       ...\n",
       "       'ZWILCH', 'ZWINT', 'ZXDA', 'ZXDB', 'ZXDC', 'ZYG11A', 'ZYG11B', 'ZYX',\n",
       "       'ZZEF1', 'ZZZ3'],\n",
       "      dtype='object', length=37528)"
      ]
     },
     "execution_count": 11,
     "metadata": {},
     "output_type": "execute_result"
    }
   ],
   "source": [
    "adata.var_names"
   ]
  },
  {
   "cell_type": "code",
   "execution_count": 12,
   "id": "8958dc9f-62fa-458d-b522-7794a28ff832",
   "metadata": {
    "execution": {
     "iopub.execute_input": "2025-10-13T19:49:05.415770Z",
     "iopub.status.busy": "2025-10-13T19:49:05.415199Z",
     "iopub.status.idle": "2025-10-13T19:49:05.429483Z",
     "shell.execute_reply": "2025-10-13T19:49:05.428624Z",
     "shell.execute_reply.started": "2025-10-13T19:49:05.415734Z"
    },
    "tags": []
   },
   "outputs": [
    {
     "data": {
      "text/plain": [
       "(1145823, 37528)"
      ]
     },
     "execution_count": 12,
     "metadata": {},
     "output_type": "execute_result"
    }
   ],
   "source": [
    "adata.X.shape"
   ]
  },
  {
   "cell_type": "code",
   "execution_count": null,
   "id": "de0e2676-caac-44f6-a043-3fb1a467f998",
   "metadata": {},
   "outputs": [],
   "source": []
  },
  {
   "cell_type": "code",
   "execution_count": null,
   "id": "f8a04f12-bc14-4c91-9dd3-bb948da83563",
   "metadata": {},
   "outputs": [],
   "source": []
  },
  {
   "cell_type": "markdown",
   "id": "fcbb2b3d-d5ae-4abf-b1d1-8c2533cd047d",
   "metadata": {
    "execution": {
     "iopub.execute_input": "2025-10-12T22:02:03.097101Z",
     "iopub.status.busy": "2025-10-12T22:02:03.096722Z",
     "iopub.status.idle": "2025-10-12T22:02:03.100171Z",
     "shell.execute_reply": "2025-10-12T22:02:03.099476Z",
     "shell.execute_reply.started": "2025-10-12T22:02:03.097083Z"
    },
    "tags": []
   },
   "source": [
    "# preprocessing"
   ]
  },
  {
   "cell_type": "code",
   "execution_count": 13,
   "id": "0d4b920f-81b0-44d9-8669-7b65ebdf9f24",
   "metadata": {
    "execution": {
     "iopub.execute_input": "2025-10-13T19:49:05.430905Z",
     "iopub.status.busy": "2025-10-13T19:49:05.430499Z",
     "iopub.status.idle": "2025-10-13T19:49:05.436146Z",
     "shell.execute_reply": "2025-10-13T19:49:05.435181Z",
     "shell.execute_reply.started": "2025-10-13T19:49:05.430876Z"
    }
   },
   "outputs": [],
   "source": [
    "# Filter the database based on the availability of embeddings"
   ]
  },
  {
   "cell_type": "code",
   "execution_count": 14,
   "id": "8e641ac8-55d9-439d-bbd2-97b627a3cdae",
   "metadata": {
    "execution": {
     "iopub.execute_input": "2025-10-13T19:49:05.436947Z",
     "iopub.status.busy": "2025-10-13T19:49:05.436693Z",
     "iopub.status.idle": "2025-10-13T19:49:06.176369Z",
     "shell.execute_reply": "2025-10-13T19:49:06.175321Z",
     "shell.execute_reply.started": "2025-10-13T19:49:05.436929Z"
    }
   },
   "outputs": [
    {
     "name": "stderr",
     "output_type": "stream",
     "text": [
      "/var/folders/jl/gnkp_hvs3zqb957750yclnqr0000gn/T/ipykernel_2809/968582702.py:1: DtypeWarning: Columns (9,10,11,12,13,14,15,16,17,18,19,20,21,22,23) have mixed types. Specify dtype option on import or set low_memory=False.\n",
      "  embed_df = pd.read_csv(\"Datasets/morf_less_3069_esm1v_embed.csv\")\n"
     ]
    }
   ],
   "source": [
    "embed_df = pd.read_csv(\"Datasets/morf_less_3069_esm1v_embed.csv\")"
   ]
  },
  {
   "cell_type": "code",
   "execution_count": 15,
   "id": "d6a732f4-a93f-42a8-8095-95ac34c98f74",
   "metadata": {
    "execution": {
     "iopub.execute_input": "2025-10-13T19:49:06.178206Z",
     "iopub.status.busy": "2025-10-13T19:49:06.177846Z",
     "iopub.status.idle": "2025-10-13T19:49:06.189655Z",
     "shell.execute_reply": "2025-10-13T19:49:06.189076Z",
     "shell.execute_reply.started": "2025-10-13T19:49:06.178188Z"
    }
   },
   "outputs": [
    {
     "data": {
      "text/html": [
       "<div>\n",
       "<style scoped>\n",
       "    .dataframe tbody tr th:only-of-type {\n",
       "        vertical-align: middle;\n",
       "    }\n",
       "\n",
       "    .dataframe tbody tr th {\n",
       "        vertical-align: top;\n",
       "    }\n",
       "\n",
       "    .dataframe thead th {\n",
       "        text-align: right;\n",
       "    }\n",
       "</style>\n",
       "<table border=\"1\" class=\"dataframe\">\n",
       "  <thead>\n",
       "    <tr style=\"text-align: right;\">\n",
       "      <th></th>\n",
       "      <th>Unnamed: 0</th>\n",
       "      <th>Source</th>\n",
       "      <th>Name</th>\n",
       "      <th>RefSeq Gene Name</th>\n",
       "      <th>RefSeq and Gencode ID</th>\n",
       "      <th>Isoform ID</th>\n",
       "      <th>Insert</th>\n",
       "      <th>ORF sequence</th>\n",
       "      <th>Barcode Sequence</th>\n",
       "      <th>Epitope Tag</th>\n",
       "      <th>...</th>\n",
       "      <th>emb_dim_1271</th>\n",
       "      <th>emb_dim_1272</th>\n",
       "      <th>emb_dim_1273</th>\n",
       "      <th>emb_dim_1274</th>\n",
       "      <th>emb_dim_1275</th>\n",
       "      <th>emb_dim_1276</th>\n",
       "      <th>emb_dim_1277</th>\n",
       "      <th>emb_dim_1278</th>\n",
       "      <th>emb_dim_1279</th>\n",
       "      <th>emb_dim_1280</th>\n",
       "    </tr>\n",
       "  </thead>\n",
       "  <tbody>\n",
       "    <tr>\n",
       "      <th>0</th>\n",
       "      <td>0</td>\n",
       "      <td>Genewiz</td>\n",
       "      <td>TFORF0001</td>\n",
       "      <td>HIF3A</td>\n",
       "      <td>NM_022462,ENST00000244303</td>\n",
       "      <td>HIF3A-1</td>\n",
       "      <td>ACCGCCACCATGCGGCCCGCAGCCGGCGCAGCCAGGAGACCGAGGT...</td>\n",
       "      <td>ATGCGGCCCGCAGCCGGCGCAGCCAGGAGACCGAGGTGCTGTACCA...</td>\n",
       "      <td>AGTCAAGACCCTCGGGCTCTGTGG</td>\n",
       "      <td>NaN</td>\n",
       "      <td>...</td>\n",
       "      <td>0.113347</td>\n",
       "      <td>-0.164739</td>\n",
       "      <td>0.023188</td>\n",
       "      <td>-0.181262</td>\n",
       "      <td>-0.124135</td>\n",
       "      <td>-0.081154</td>\n",
       "      <td>-0.265399</td>\n",
       "      <td>-0.185783</td>\n",
       "      <td>0.102427</td>\n",
       "      <td>0.205231</td>\n",
       "    </tr>\n",
       "    <tr>\n",
       "      <th>1</th>\n",
       "      <td>1</td>\n",
       "      <td>Genewiz</td>\n",
       "      <td>TFORF0002</td>\n",
       "      <td>HIF3A</td>\n",
       "      <td>NM_152796,ENST00000472815</td>\n",
       "      <td>HIF3A-2</td>\n",
       "      <td>ACCGCCACCATGCGGCCCGCAGCCGGCGCAGCCAGGAGACCGAGGT...</td>\n",
       "      <td>ATGCGGCCCGCAGCCGGCGCAGCCAGGAGACCGAGGTGCTGTACCA...</td>\n",
       "      <td>CAATTACACCACGTCTGCCTACTA</td>\n",
       "      <td>NaN</td>\n",
       "      <td>...</td>\n",
       "      <td>0.072937</td>\n",
       "      <td>-0.130043</td>\n",
       "      <td>0.041781</td>\n",
       "      <td>-0.166194</td>\n",
       "      <td>-0.114572</td>\n",
       "      <td>-0.146485</td>\n",
       "      <td>-0.291511</td>\n",
       "      <td>-0.186216</td>\n",
       "      <td>0.128230</td>\n",
       "      <td>0.173867</td>\n",
       "    </tr>\n",
       "  </tbody>\n",
       "</table>\n",
       "<p>2 rows × 1306 columns</p>\n",
       "</div>"
      ],
      "text/plain": [
       "   Unnamed: 0   Source        Name RefSeq Gene Name  \\\n",
       "0           0  Genewiz  TFORF0001             HIF3A   \n",
       "1           1  Genewiz  TFORF0002             HIF3A   \n",
       "\n",
       "       RefSeq and Gencode ID Isoform ID  \\\n",
       "0  NM_022462,ENST00000244303    HIF3A-1   \n",
       "1  NM_152796,ENST00000472815    HIF3A-2   \n",
       "\n",
       "                                              Insert  \\\n",
       "0  ACCGCCACCATGCGGCCCGCAGCCGGCGCAGCCAGGAGACCGAGGT...   \n",
       "1  ACCGCCACCATGCGGCCCGCAGCCGGCGCAGCCAGGAGACCGAGGT...   \n",
       "\n",
       "                                        ORF sequence  \\\n",
       "0  ATGCGGCCCGCAGCCGGCGCAGCCAGGAGACCGAGGTGCTGTACCA...   \n",
       "1  ATGCGGCCCGCAGCCGGCGCAGCCAGGAGACCGAGGTGCTGTACCA...   \n",
       "\n",
       "           Barcode Sequence Epitope Tag  ... emb_dim_1271 emb_dim_1272  \\\n",
       "0  AGTCAAGACCCTCGGGCTCTGTGG         NaN  ...     0.113347    -0.164739   \n",
       "1  CAATTACACCACGTCTGCCTACTA         NaN  ...     0.072937    -0.130043   \n",
       "\n",
       "  emb_dim_1273 emb_dim_1274 emb_dim_1275 emb_dim_1276 emb_dim_1277  \\\n",
       "0     0.023188    -0.181262    -0.124135    -0.081154    -0.265399   \n",
       "1     0.041781    -0.166194    -0.114572    -0.146485    -0.291511   \n",
       "\n",
       "  emb_dim_1278 emb_dim_1279 emb_dim_1280  \n",
       "0    -0.185783     0.102427     0.205231  \n",
       "1    -0.186216     0.128230     0.173867  \n",
       "\n",
       "[2 rows x 1306 columns]"
      ]
     },
     "execution_count": 15,
     "metadata": {},
     "output_type": "execute_result"
    }
   ],
   "source": [
    "embed_df.head(2)"
   ]
  },
  {
   "cell_type": "code",
   "execution_count": 16,
   "id": "506d4866-d35d-403c-9dd0-35308a6ba6f6",
   "metadata": {
    "execution": {
     "iopub.execute_input": "2025-10-13T19:49:06.190606Z",
     "iopub.status.busy": "2025-10-13T19:49:06.190257Z",
     "iopub.status.idle": "2025-10-13T19:49:06.194620Z",
     "shell.execute_reply": "2025-10-13T19:49:06.194058Z",
     "shell.execute_reply.started": "2025-10-13T19:49:06.190588Z"
    }
   },
   "outputs": [],
   "source": [
    "embed_df[\"TF\"] = embed_df[\"Name\"].astype(str) + \"-\" + embed_df[\"RefSeq Gene Name\"].astype(str)"
   ]
  },
  {
   "cell_type": "code",
   "execution_count": 17,
   "id": "5f73499e-aa12-419f-aaf1-ff9a9c4b6507",
   "metadata": {
    "execution": {
     "iopub.execute_input": "2025-10-13T19:49:06.195367Z",
     "iopub.status.busy": "2025-10-13T19:49:06.195072Z",
     "iopub.status.idle": "2025-10-13T19:49:06.198762Z",
     "shell.execute_reply": "2025-10-13T19:49:06.198078Z",
     "shell.execute_reply.started": "2025-10-13T19:49:06.195349Z"
    }
   },
   "outputs": [],
   "source": [
    "tf_embed_avail_set = set(embed_df[\"TF\"])"
   ]
  },
  {
   "cell_type": "code",
   "execution_count": 18,
   "id": "61fbe00f-ea2b-4bbb-a091-1a50022271e1",
   "metadata": {
    "execution": {
     "iopub.execute_input": "2025-10-13T19:49:06.199656Z",
     "iopub.status.busy": "2025-10-13T19:49:06.199476Z",
     "iopub.status.idle": "2025-10-13T19:49:06.330548Z",
     "shell.execute_reply": "2025-10-13T19:49:06.329788Z",
     "shell.execute_reply.started": "2025-10-13T19:49:06.199641Z"
    }
   },
   "outputs": [],
   "source": [
    "adata = adata[adata.obs.TF.isin(tf_embed_avail_set)]"
   ]
  },
  {
   "cell_type": "code",
   "execution_count": null,
   "id": "1ae814cf-d7b9-4914-858b-4e77dad5c67b",
   "metadata": {},
   "outputs": [],
   "source": []
  },
  {
   "cell_type": "code",
   "execution_count": null,
   "id": "97dee315-1e31-4588-8897-f8d53050f6bb",
   "metadata": {},
   "outputs": [],
   "source": []
  },
  {
   "cell_type": "code",
   "execution_count": 19,
   "id": "7f847b4b-3460-42aa-8400-5e0980728433",
   "metadata": {
    "execution": {
     "iopub.execute_input": "2025-10-13T19:49:06.331597Z",
     "iopub.status.busy": "2025-10-13T19:49:06.331298Z",
     "iopub.status.idle": "2025-10-13T19:49:06.354193Z",
     "shell.execute_reply": "2025-10-13T19:49:06.353598Z",
     "shell.execute_reply.started": "2025-10-13T19:49:06.331578Z"
    }
   },
   "outputs": [
    {
     "data": {
      "text/plain": [
       "2539"
      ]
     },
     "execution_count": 19,
     "metadata": {},
     "output_type": "execute_result"
    }
   ],
   "source": [
    "# filter out the TF with which contain less 100 cells been infected\n",
    "TF_counts_dic = dict(adata.obs.TF.value_counts())\n",
    "len(TF_counts_dic)"
   ]
  },
  {
   "cell_type": "code",
   "execution_count": 20,
   "id": "42084859-0140-4812-996e-cf81dfd2aeee",
   "metadata": {
    "execution": {
     "iopub.execute_input": "2025-10-13T19:49:06.354839Z",
     "iopub.status.busy": "2025-10-13T19:49:06.354664Z",
     "iopub.status.idle": "2025-10-13T19:49:06.359423Z",
     "shell.execute_reply": "2025-10-13T19:49:06.358632Z",
     "shell.execute_reply.started": "2025-10-13T19:49:06.354823Z"
    }
   },
   "outputs": [
    {
     "data": {
      "text/plain": [
       "2270"
      ]
     },
     "execution_count": 20,
     "metadata": {},
     "output_type": "execute_result"
    }
   ],
   "source": [
    "TF_lower_lim = 10\n",
    "TF_selected_dic ={}\n",
    "TF_selected_dic = {k: v for k, v in TF_counts_dic.items() if v >= TF_lower_lim}\n",
    "len(TF_selected_dic)"
   ]
  },
  {
   "cell_type": "code",
   "execution_count": 21,
   "id": "9b723cbc-acc5-4b6c-9118-2e72dcee6ac3",
   "metadata": {
    "execution": {
     "iopub.execute_input": "2025-10-13T19:49:06.364877Z",
     "iopub.status.busy": "2025-10-13T19:49:06.364622Z",
     "iopub.status.idle": "2025-10-13T19:49:06.481123Z",
     "shell.execute_reply": "2025-10-13T19:49:06.480516Z",
     "shell.execute_reply.started": "2025-10-13T19:49:06.364861Z"
    }
   },
   "outputs": [],
   "source": [
    "adata = adata[adata.obs.TF.isin(TF_selected_dic)]"
   ]
  },
  {
   "cell_type": "code",
   "execution_count": 22,
   "id": "d0ae0d01-4304-4ee5-b3ab-2aa9afef92f3",
   "metadata": {
    "execution": {
     "iopub.execute_input": "2025-10-13T19:49:06.481981Z",
     "iopub.status.busy": "2025-10-13T19:49:06.481700Z",
     "iopub.status.idle": "2025-10-13T19:49:06.498058Z",
     "shell.execute_reply": "2025-10-13T19:49:06.497210Z",
     "shell.execute_reply.started": "2025-10-13T19:49:06.481964Z"
    }
   },
   "outputs": [
    {
     "data": {
      "text/plain": [
       "10"
      ]
     },
     "execution_count": 22,
     "metadata": {},
     "output_type": "execute_result"
    }
   ],
   "source": [
    "min(dict(adata.obs.TF.value_counts()).values())"
   ]
  },
  {
   "cell_type": "code",
   "execution_count": 23,
   "id": "8cdc451f-1bcc-49ad-a05f-d8fac5df2e4d",
   "metadata": {
    "execution": {
     "iopub.execute_input": "2025-10-13T19:49:06.500092Z",
     "iopub.status.busy": "2025-10-13T19:49:06.499518Z",
     "iopub.status.idle": "2025-10-13T19:49:06.504329Z",
     "shell.execute_reply": "2025-10-13T19:49:06.503715Z",
     "shell.execute_reply.started": "2025-10-13T19:49:06.500075Z"
    }
   },
   "outputs": [
    {
     "data": {
      "text/plain": [
       "(732642, 37528)"
      ]
     },
     "execution_count": 23,
     "metadata": {},
     "output_type": "execute_result"
    }
   ],
   "source": [
    "adata.shape"
   ]
  },
  {
   "cell_type": "code",
   "execution_count": null,
   "id": "e2cd102a-2700-4893-9ea7-77eb13f387ae",
   "metadata": {},
   "outputs": [],
   "source": []
  },
  {
   "cell_type": "code",
   "execution_count": 24,
   "id": "80739340-989a-4ed9-96f9-15ed8fa0f904",
   "metadata": {
    "execution": {
     "iopub.execute_input": "2025-10-13T19:49:06.505239Z",
     "iopub.status.busy": "2025-10-13T19:49:06.504928Z",
     "iopub.status.idle": "2025-10-13T19:49:06.507547Z",
     "shell.execute_reply": "2025-10-13T19:49:06.506962Z",
     "shell.execute_reply.started": "2025-10-13T19:49:06.505204Z"
    }
   },
   "outputs": [],
   "source": [
    "# filter out based on mt"
   ]
  },
  {
   "cell_type": "code",
   "execution_count": 25,
   "id": "1e92bfda-d3e0-43a3-bdb4-fd2c8effdba9",
   "metadata": {
    "execution": {
     "iopub.execute_input": "2025-10-13T19:49:06.508323Z",
     "iopub.status.busy": "2025-10-13T19:49:06.508064Z",
     "iopub.status.idle": "2025-10-13T20:15:04.278230Z",
     "shell.execute_reply": "2025-10-13T20:15:04.276945Z",
     "shell.execute_reply.started": "2025-10-13T19:49:06.508305Z"
    },
    "tags": []
   },
   "outputs": [
    {
     "name": "stderr",
     "output_type": "stream",
     "text": [
      "/var/folders/jl/gnkp_hvs3zqb957750yclnqr0000gn/T/ipykernel_2809/1081497419.py:1: ImplicitModificationWarning: Trying to modify attribute `.var` of view, initializing view as actual.\n",
      "  adata.var['mt'] = adata.var_names.str.startswith('MT-')\n"
     ]
    },
    {
     "name": "stdout",
     "output_type": "stream",
     "text": [
      "WARNING: saving figure to file figures/violin_n_genes.pdf\n"
     ]
    },
    {
     "data": {
      "image/png": "[encoded data removed]",
      "text/plain": [
       "<Figure size 804.6x480 with 1 Axes>"
      ]
     },
     "metadata": {},
     "output_type": "display_data"
    },
    {
     "name": "stdout",
     "output_type": "stream",
     "text": [
      "WARNING: saving figure to file figures/violin_total_counts.pdf\n"
     ]
    },
    {
     "data": {
      "image/png": "[encoded data removed]",
      "text/plain": [
       "<Figure size 804.6x480 with 1 Axes>"
      ]
     },
     "metadata": {},
     "output_type": "display_data"
    },
    {
     "name": "stdout",
     "output_type": "stream",
     "text": [
      "WARNING: saving figure to file figures/violin_mito_pct.pdf\n"
     ]
    },
    {
     "data": {
      "image/png": "[encoded data removed]",
      "text/plain": [
       "<Figure size 804.6x480 with 1 Axes>"
      ]
     },
     "metadata": {},
     "output_type": "display_data"
    }
   ],
   "source": [
    "adata.var['mt'] = adata.var_names.str.startswith('MT-')\n",
    "sc.pp.calculate_qc_metrics(adata, qc_vars=['mt'], percent_top=None, log1p=False, inplace=True)\n",
    "\n",
    "# Scanpy will prepend the string in the save argument with \"violin\"\n",
    "# and save it to our figure directory defined in the first step.\n",
    "sc.pl.violin(adata, ['n_genes_by_counts'], save='_n_genes', jitter=0.4)\n",
    "sc.pl.violin(adata, ['total_counts'], save='_total_counts', jitter=0.4)\n",
    "sc.pl.violin(adata, ['pct_counts_mt'], save='_mito_pct', jitter=0.4)"
   ]
  },
  {
   "cell_type": "code",
   "execution_count": null,
   "id": "4282e4c8-2fd1-4eb2-8d25-331a2a3e9de6",
   "metadata": {},
   "outputs": [],
   "source": []
  },
  {
   "cell_type": "code",
   "execution_count": 26,
   "id": "113051db-67fc-46cb-af83-0cb272ad1913",
   "metadata": {
    "execution": {
     "iopub.execute_input": "2025-10-13T20:15:04.279907Z",
     "iopub.status.busy": "2025-10-13T20:15:04.279558Z",
     "iopub.status.idle": "2025-10-13T20:15:04.680190Z",
     "shell.execute_reply": "2025-10-13T20:15:04.679531Z",
     "shell.execute_reply.started": "2025-10-13T20:15:04.279890Z"
    }
   },
   "outputs": [
    {
     "data": {
      "text/plain": [
       "(730397, 37528)"
      ]
     },
     "execution_count": 26,
     "metadata": {},
     "output_type": "execute_result"
    }
   ],
   "source": [
    "# Filter the data based on counts\n",
    "adata = adata[adata.obs.n_genes_by_counts < 5000,:]\n",
    "adata = adata[adata.obs.total_counts < 20000,:]\n",
    "adata = adata[adata.obs.pct_counts_mt < 15,:]\n",
    "adata.shape # Checking number of cells remaining\n",
    "\n",
    "\n",
    "# #instead of picking subjectively, you can use quanitle\n",
    "# upper_lim = np.quantile(adata_TF_filter.obs.n_genes_by_counts.values, .98)\n",
    "# lower_lim = np.quantile(adata_TF_filter.obs.n_genes_by_counts.values, .02)\n",
    "# print(f'{lower_lim} to {upper_lim}')\n",
    "\n",
    "# #adata = adata[adata.obs.n_genes_by_counts < 7000, :] #example if you wanted to pick a number yourself\n",
    "# if lower_lim != upper_lim:\n",
    "#     adata_TF_filter = adata_TF_filter[(adata_TF_filter.obs.n_genes_by_counts < upper_lim) & (adata_TF_filter.obs.n_genes_by_counts > lower_lim)]\n",
    "\n",
    "\n",
    "# min_genes = 200\n",
    "# min_cells = 3\n",
    "# sc.pp.filter_cells(adata, min_genes=min_genes)\n",
    "# sc.pp.filter_genes(adata, min_cells=min_cells)\n",
    "# adata"
   ]
  },
  {
   "cell_type": "code",
   "execution_count": 27,
   "id": "7540f69f-8ead-4267-8d14-6442046df808",
   "metadata": {
    "execution": {
     "iopub.execute_input": "2025-10-13T20:15:04.681313Z",
     "iopub.status.busy": "2025-10-13T20:15:04.680956Z",
     "iopub.status.idle": "2025-10-13T20:15:04.690605Z",
     "shell.execute_reply": "2025-10-13T20:15:04.689772Z",
     "shell.execute_reply.started": "2025-10-13T20:15:04.681295Z"
    }
   },
   "outputs": [
    {
     "data": {
      "text/html": [
       "<div>\n",
       "<style scoped>\n",
       "    .dataframe tbody tr th:only-of-type {\n",
       "        vertical-align: middle;\n",
       "    }\n",
       "\n",
       "    .dataframe tbody tr th {\n",
       "        vertical-align: top;\n",
       "    }\n",
       "\n",
       "    .dataframe thead th {\n",
       "        text-align: right;\n",
       "    }\n",
       "</style>\n",
       "<table border=\"1\" class=\"dataframe\">\n",
       "  <thead>\n",
       "    <tr style=\"text-align: right;\">\n",
       "      <th></th>\n",
       "      <th>n_genes</th>\n",
       "      <th>percent_mito</th>\n",
       "      <th>n_counts</th>\n",
       "      <th>batch</th>\n",
       "      <th>TF</th>\n",
       "      <th>n_genes_by_counts</th>\n",
       "      <th>total_counts</th>\n",
       "      <th>total_counts_mt</th>\n",
       "      <th>pct_counts_mt</th>\n",
       "    </tr>\n",
       "  </thead>\n",
       "  <tbody>\n",
       "    <tr>\n",
       "      <th>R1.01,R2.01,R3.01,P1.22-0-0</th>\n",
       "      <td>1642</td>\n",
       "      <td>0.030650</td>\n",
       "      <td>2186.0</td>\n",
       "      <td>0</td>\n",
       "      <td>TFORF0867-NR1H2</td>\n",
       "      <td>1642</td>\n",
       "      <td>2186.0</td>\n",
       "      <td>0.0</td>\n",
       "      <td>0.0</td>\n",
       "    </tr>\n",
       "    <tr>\n",
       "      <th>R1.01,R2.01,R3.09,P1.46-0-0</th>\n",
       "      <td>2193</td>\n",
       "      <td>0.025601</td>\n",
       "      <td>3164.0</td>\n",
       "      <td>0</td>\n",
       "      <td>TFORF2044-ARID3C</td>\n",
       "      <td>2193</td>\n",
       "      <td>3164.0</td>\n",
       "      <td>0.0</td>\n",
       "      <td>0.0</td>\n",
       "    </tr>\n",
       "  </tbody>\n",
       "</table>\n",
       "</div>"
      ],
      "text/plain": [
       "                             n_genes  percent_mito  n_counts batch  \\\n",
       "R1.01,R2.01,R3.01,P1.22-0-0     1642      0.030650    2186.0     0   \n",
       "R1.01,R2.01,R3.09,P1.46-0-0     2193      0.025601    3164.0     0   \n",
       "\n",
       "                                           TF  n_genes_by_counts  \\\n",
       "R1.01,R2.01,R3.01,P1.22-0-0   TFORF0867-NR1H2               1642   \n",
       "R1.01,R2.01,R3.09,P1.46-0-0  TFORF2044-ARID3C               2193   \n",
       "\n",
       "                             total_counts  total_counts_mt  pct_counts_mt  \n",
       "R1.01,R2.01,R3.01,P1.22-0-0        2186.0              0.0            0.0  \n",
       "R1.01,R2.01,R3.09,P1.46-0-0        3164.0              0.0            0.0  "
      ]
     },
     "execution_count": 27,
     "metadata": {},
     "output_type": "execute_result"
    }
   ],
   "source": [
    "adata.obs.head(2)"
   ]
  },
  {
   "cell_type": "code",
   "execution_count": 28,
   "id": "a792e05f-883f-4f10-92c9-066030eb1770",
   "metadata": {
    "execution": {
     "iopub.execute_input": "2025-10-13T20:15:04.691849Z",
     "iopub.status.busy": "2025-10-13T20:15:04.691493Z",
     "iopub.status.idle": "2025-10-13T20:15:38.799903Z",
     "shell.execute_reply": "2025-10-13T20:15:38.799172Z",
     "shell.execute_reply.started": "2025-10-13T20:15:04.691829Z"
    },
    "tags": []
   },
   "outputs": [
    {
     "name": "stdout",
     "output_type": "stream",
     "text": [
      "WARNING: saving figure to file figures/scatter_gene_vs_transcript_counts.pdf\n"
     ]
    },
    {
     "data": {
      "image/png": "[encoded data removed]",
      "text/plain": [
       "<Figure size 728.72x480 with 1 Axes>"
      ]
     },
     "metadata": {},
     "output_type": "display_data"
    }
   ],
   "source": [
    "sc.pl.scatter(adata, x='total_counts', y='n_genes_by_counts', save='_gene_vs_transcript_counts')"
   ]
  },
  {
   "cell_type": "code",
   "execution_count": 29,
   "id": "04340c3d-89bf-458a-bcfb-35dbec35a149",
   "metadata": {
    "execution": {
     "iopub.execute_input": "2025-10-13T20:15:38.801051Z",
     "iopub.status.busy": "2025-10-13T20:15:38.800742Z",
     "iopub.status.idle": "2025-10-13T20:29:19.641940Z",
     "shell.execute_reply": "2025-10-13T20:29:19.635420Z",
     "shell.execute_reply.started": "2025-10-13T20:15:38.801032Z"
    },
    "tags": []
   },
   "outputs": [
    {
     "name": "stderr",
     "output_type": "stream",
     "text": [
      "/Users/newuser/anaconda3/envs/PerturbNet/lib/python3.10/site-packages/scanpy/preprocessing/_normalization.py:216: UserWarning: Received a view of an AnnData. Making a copy.\n",
      "  view_to_actual(adata)\n"
     ]
    }
   ],
   "source": [
    "sc.pp.normalize_total(adata, target_sum=1e4)\n",
    "sc.pp.log1p(adata)"
   ]
  },
  {
   "cell_type": "code",
   "execution_count": null,
   "id": "87531369-584c-40ee-a49f-c14194ec8900",
   "metadata": {},
   "outputs": [],
   "source": []
  },
  {
   "cell_type": "code",
   "execution_count": null,
   "id": "7356db23-3ffd-40ea-9c60-2365a74e6c28",
   "metadata": {
    "execution": {
     "execution_failed": "2025-10-13T20:41:09.317Z",
     "iopub.execute_input": "2025-10-13T20:29:19.649510Z",
     "iopub.status.busy": "2025-10-13T20:29:19.649162Z"
    }
   },
   "outputs": [],
   "source": [
    "sc.pp.highly_variable_genes(adata, min_mean=0.0125, max_mean=3, min_disp=0.25)\n",
    "sc.pl.highly_variable_genes(adata, save='') # scanpy generates the filename automatically"
   ]
  },
  {
   "cell_type": "code",
   "execution_count": null,
   "id": "e53da930-fe5b-45dd-a627-c1f6c05b3f2f",
   "metadata": {
    "execution": {
     "execution_failed": "2025-10-13T20:41:09.320Z"
    }
   },
   "outputs": [],
   "source": [
    "# # Save raw expression values before variable gene subset\n",
    "# adata.raw = adata"
   ]
  },
  {
   "cell_type": "code",
   "execution_count": null,
   "id": "741aac9f-81b0-4f6c-82c1-a05ccfccbdba",
   "metadata": {
    "execution": {
     "execution_failed": "2025-10-13T20:41:09.321Z"
    }
   },
   "outputs": [],
   "source": [
    "adata = adata[:, adata.var.highly_variable]\n",
    "sc.pp.regress_out(adata, ['total_counts'])\n",
    "sc.pp.scale(adata, max_value=10)"
   ]
  },
  {
   "cell_type": "code",
   "execution_count": null,
   "id": "cf570977-0c74-4192-b8de-685e9a989db1",
   "metadata": {
    "execution": {
     "execution_failed": "2025-10-13T20:41:09.321Z"
    }
   },
   "outputs": [],
   "source": [
    "# Principal component analysis"
   ]
  },
  {
   "cell_type": "code",
   "execution_count": null,
   "id": "a5385070-110e-4f6e-a8fd-c30796377613",
   "metadata": {
    "execution": {
     "execution_failed": "2025-10-13T20:41:09.322Z"
    }
   },
   "outputs": [],
   "source": [
    "sc.tl.pca(adata, svd_solver='arpack')\n",
    "sc.pl.pca_variance_ratio(adata, log=True, n_pcs=50, save='') # scanpy generates the filename automatically"
   ]
  },
  {
   "cell_type": "code",
   "execution_count": null,
   "id": "918c1711-3ac1-4d84-baa7-3af04d69f748",
   "metadata": {},
   "outputs": [],
   "source": []
  },
  {
   "cell_type": "code",
   "execution_count": null,
   "id": "3405d490-d2fb-4dd5-b24c-f75ac04192dd",
   "metadata": {
    "execution": {
     "execution_failed": "2025-10-13T20:41:09.322Z"
    }
   },
   "outputs": [],
   "source": [
    "# UMAP and Leiden Clustering"
   ]
  },
  {
   "cell_type": "code",
   "execution_count": null,
   "id": "e345238a-b4a5-459f-878b-de581d0f006a",
   "metadata": {
    "execution": {
     "execution_failed": "2025-10-13T20:41:09.323Z"
    }
   },
   "outputs": [],
   "source": [
    "sc.pp.neighbors(adata, n_neighbors=10, n_pcs=30)\n",
    "sc.tl.umap(adata)\n",
    "sc.tl.leiden(adata, resolution=0.5)\n",
    "sc.pl.umap(adata, color=['leiden'], legend_fontsize=8, save='_leiden')"
   ]
  },
  {
   "cell_type": "code",
   "execution_count": null,
   "id": "75be6098-fbce-4bb3-bc1c-ac4169398e43",
   "metadata": {},
   "outputs": [],
   "source": []
  },
  {
   "cell_type": "code",
   "execution_count": null,
   "id": "2e5efd0d-9d0b-46ec-841b-2d75ddec6bd4",
   "metadata": {
    "execution": {
     "execution_failed": "2025-10-13T20:41:09.323Z"
    }
   },
   "outputs": [],
   "source": [
    "# Finding cluster markers"
   ]
  },
  {
   "cell_type": "code",
   "execution_count": null,
   "id": "a12180aa-b4d0-4fea-bac9-f0a03f007eb7",
   "metadata": {
    "execution": {
     "execution_failed": "2025-10-13T20:41:09.324Z"
    }
   },
   "outputs": [],
   "source": [
    "sc.tl.rank_genes_groups(adata, 'leiden', method='t-test')\n",
    "\n",
    "# The head function returns the top n genes per cluster\n",
    "top_markers = pd.DataFrame(adata.uns['rank_genes_groups']['names']).head(5)\n",
    "print(top_markers)"
   ]
  },
  {
   "cell_type": "code",
   "execution_count": null,
   "id": "7979ec2a-05d5-4f6e-8133-bf6f825364ac",
   "metadata": {},
   "outputs": [],
   "source": []
  },
  {
   "cell_type": "code",
   "execution_count": null,
   "id": "d4093a1b-c856-4180-8f7c-3dd5b845b82d",
   "metadata": {
    "execution": {
     "execution_failed": "2025-10-13T20:41:09.325Z"
    }
   },
   "outputs": [],
   "source": [
    "# Save/load the results"
   ]
  },
  {
   "cell_type": "code",
   "execution_count": null,
   "id": "02473442-e140-4aaa-80cb-b2f1a5e8b208",
   "metadata": {
    "execution": {
     "execution_failed": "2025-10-13T20:41:09.325Z"
    }
   },
   "outputs": [],
   "source": [
    "# adata.write(data_path + 'adata_after_diffexp.h5ad')\n",
    "# adata = sc.read(data_path + 'adata_after_diffexp.h5ad')"
   ]
  },
  {
   "cell_type": "code",
   "execution_count": null,
   "id": "1931906a-48fe-416b-9b84-14cc0432f2a4",
   "metadata": {},
   "outputs": [],
   "source": []
  },
  {
   "cell_type": "code",
   "execution_count": null,
   "id": "001dcc91-796d-411e-bce8-ec6efd35b45c",
   "metadata": {
    "execution": {
     "execution_failed": "2025-10-13T20:41:09.326Z"
    }
   },
   "outputs": [],
   "source": [
    "# Merging clusters and labeling cell types"
   ]
  },
  {
   "cell_type": "code",
   "execution_count": null,
   "id": "c1df77c4-8e01-4b0c-8b71-c0da95fa5924",
   "metadata": {},
   "outputs": [],
   "source": []
  },
  {
   "cell_type": "code",
   "execution_count": null,
   "id": "ff9dca89-0e62-4d2d-99eb-24cb14bffaa5",
   "metadata": {},
   "outputs": [],
   "source": []
  }
 ],
 "metadata": {
  "kernelspec": {
   "display_name": "Python 3 (ipykernel)",
   "language": "python",
   "name": "python3"
  },
  "language_info": {
   "codemirror_mode": {
    "name": "ipython",
    "version": 3
   },
   "file_extension": ".py",
   "mimetype": "text/x-python",
   "name": "python",
   "nbconvert_exporter": "python",
   "pygments_lexer": "ipython3",
   "version": "3.10.18"
  }
 },
 "nbformat": 4,
 "nbformat_minor": 5
}
